{
 "cells": [
  {
   "cell_type": "code",
   "execution_count": null,
   "id": "4656f182",
   "metadata": {},
   "outputs": [],
   "source": [
    "import random\n",
    "import numpy as np\n",
    "import pandas as pd\n",
    "import matplotlib.pyplot as plt"
   ]
  },
  {
   "cell_type": "markdown",
   "id": "69427f20",
   "metadata": {},
   "source": [
    "## Something about Bandit Problems\n",
    "**Definitions**\n",
    "- Bandit Problems\n",
    "- Regret and other metrics\n",
    "- Adversarial Bandit Problems\n",
    "\n",
    "**Methods**\n",
    "- Explore Only\n",
    "- Exploit Only\n",
    "- Epsilon-Greedy\n",
    "- Upper Confidence Bound Algorithm\n",
    "\n",
    "**TODO**\n",
    "- Make charts of everything\n",
    "- Tune parameters of mu and sigma to see how Regret converges as a function of time\n",
    "\n",
    "**Goal:** Maximize value extracted within limited time and no given information"
   ]
  },
  {
   "cell_type": "code",
   "execution_count": null,
   "id": "b962729c",
   "metadata": {},
   "outputs": [],
   "source": [
    "# Review Latex and check out formulas for Regret and all that. It's probability stuff, so that's something else to learn"
   ]
  },
  {
   "cell_type": "code",
   "execution_count": null,
   "id": "d9a065fd",
   "metadata": {},
   "outputs": [],
   "source": [
    "class Restaurant:\n",
    "    def __init__(self, mu, dev):\n",
    "        self.mu = mu\n",
    "        self.dev = dev\n",
    "    def sample(self):\n",
    "        return np.random.normal(self.mu, self.dev)"
   ]
  },
  {
   "cell_type": "code",
   "execution_count": null,
   "id": "cd04ff3b",
   "metadata": {},
   "outputs": [],
   "source": [
    "# Graph a few here to show what you mean"
   ]
  },
  {
   "cell_type": "code",
   "execution_count": null,
   "id": "a8feeb03",
   "metadata": {},
   "outputs": [],
   "source": [
    "def explore_only(candidates, num_days):\n",
    "    scores = []\n",
    "    for _ in range(num_days):\n",
    "        scores.append(choice(candidates).sample())\n",
    "    return sum(scores)"
   ]
  },
  {
   "cell_type": "code",
   "execution_count": null,
   "id": "e41ab64a",
   "metadata": {},
   "outputs": [],
   "source": [
    "def exploit_only(candidates, num_days):\n",
    "    scores = [c.sample() for c in candidates]\n",
    "    chosen = candidates[np.argmax(scores)]\n",
    "    for _ in range(num_days - len(candidates)):\n",
    "        scores.append(chosen.sample())\n",
    "    return sum(scores)"
   ]
  },
  {
   "cell_type": "code",
   "execution_count": null,
   "id": "8167df11",
   "metadata": {},
   "outputs": [],
   "source": [
    "def epsilon_greedy(candidates, num_days, epsilon=0.05):\n",
    "    scores = []\n",
    "    history = {idx: [c.sample()] for idx,c in enumerate(candidates)}\n",
    "    for _ in range(num_days - len(candidates)):\n",
    "        p = np.random.random()\n",
    "        #explore\n",
    "        if p < epsilon:\n",
    "            chosen = choice(candidates)\n",
    "        #exploit\n",
    "        else:\n",
    "            chosen = candidates[sorted(history.items(), key=lambda pair: np.mean(pair[1]))[-1][0]]\n",
    "        score = chosen.sample()\n",
    "        scores.append(score)\n",
    "        history[candidates.index(chosen)].append(score)\n",
    "    return sum(scores)"
   ]
  },
  {
   "cell_type": "markdown",
   "id": "41a17eab",
   "metadata": {},
   "source": [
    "### Remember to cross-reference with other sources to check that you have the right formulas. Might be wrong\n",
    "\n",
    "- Note: According to Auer (https://link.springer.com/article/10.1023/A:1013689704352), UCB1 experiments are initialized by having each machine played at least once (avoid divide by zero error). Time on top is separate from time on bottom (one is overall timestep, the other is time played)"
   ]
  },
  {
   "cell_type": "code",
   "execution_count": null,
   "id": "b86a8de2",
   "metadata": {},
   "outputs": [],
   "source": [
    "def ucb1(candidates, num_days):\n",
    "    scores = []\n",
    "    history = {idx: [c.sample()] for idx,c in enumerate(candidates)}\n",
    "    for t in range(len(candidates), num_days):\n",
    "        mu_plus_ucb = [np.mean(history[idx]) + np.sqrt(2*np.log(t) / len(history[idx])) for idx in range(len(candidates))]\n",
    "        chosen = candidates[np.argmax(mu_plus_ucb)]\n",
    "        \n",
    "        score = chosen.sample()\n",
    "        scores.append(score)\n",
    "        history[candidates.index(chosen)].append(score)\n",
    "    return sum(scores)"
   ]
  },
  {
   "cell_type": "code",
   "execution_count": null,
   "id": "2031b540",
   "metadata": {},
   "outputs": [],
   "source": [
    "dev_factor = 0.5\n",
    "num_restaurants = 3\n",
    "\n",
    "mu_vals = [3*i for i in range(1,num_restaurants+1)]\n",
    "dev_vals = [mu*dev_factor for mu in mu_vals]\n",
    "mu_dev_pairs = zip(mu_vals, dev_vals)\n",
    "\n",
    "candidates = [Restaurant(mu,dev) for mu,dev in mu_dev_pairs]\n",
    "\n",
    "num_days = 300\n",
    "\n",
    "optimal_average = max(mu_vals)*num_days"
   ]
  },
  {
   "cell_type": "code",
   "execution_count": null,
   "id": "67139a54",
   "metadata": {},
   "outputs": [],
   "source": [
    "explore_only_vals = []\n",
    "for _ in range(1000):\n",
    "    val = explore_only(candidates, num_days)\n",
    "    explore_only_vals.append(val)\n",
    "print('Explore Only Mean Regret: %s'%((optimal_average - np.mean(explore_only_vals)) / optimal_average))"
   ]
  },
  {
   "cell_type": "code",
   "execution_count": null,
   "id": "d44dbc9d",
   "metadata": {},
   "outputs": [],
   "source": [
    "exploit_only_vals = []\n",
    "for _ in range(1000):\n",
    "    val = exploit_only(candidates, num_days)\n",
    "    exploit_only_vals.append(val)\n",
    "print('Exploit Only Mean Regret: %s'%((optimal_average - np.mean(exploit_only_vals)) / optimal_average))"
   ]
  },
  {
   "cell_type": "code",
   "execution_count": null,
   "id": "4a8ecfd1",
   "metadata": {},
   "outputs": [],
   "source": [
    "epsilon_greedy_vals = []\n",
    "for _ in range(1000):\n",
    "    val = epsilon_greedy(candidates, num_days, 0.1)\n",
    "    epsilon_greedy_vals.append(val)\n",
    "print('Epsilon Greedy Mean Regret (10%%): %s'%((optimal_average - np.mean(epsilon_greedy_vals)) / optimal_average))"
   ]
  },
  {
   "cell_type": "code",
   "execution_count": null,
   "id": "2a13bd24",
   "metadata": {},
   "outputs": [],
   "source": []
  },
  {
   "cell_type": "code",
   "execution_count": null,
   "id": "1483a5e6",
   "metadata": {},
   "outputs": [],
   "source": []
  },
  {
   "cell_type": "code",
   "execution_count": null,
   "id": "887eb54a",
   "metadata": {},
   "outputs": [],
   "source": []
  }
 ],
 "metadata": {
  "kernelspec": {
   "display_name": "Python 3 (ipykernel)",
   "language": "python",
   "name": "python3"
  },
  "language_info": {
   "codemirror_mode": {
    "name": "ipython",
    "version": 3
   },
   "file_extension": ".py",
   "mimetype": "text/x-python",
   "name": "python",
   "nbconvert_exporter": "python",
   "pygments_lexer": "ipython3",
   "version": "3.10.13"
  }
 },
 "nbformat": 4,
 "nbformat_minor": 5
}
